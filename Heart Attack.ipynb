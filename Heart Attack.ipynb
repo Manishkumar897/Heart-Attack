{
 "cells": [
  {
   "cell_type": "code",
   "execution_count": 1,
   "id": "c14ea8cd",
   "metadata": {},
   "outputs": [],
   "source": [
    "#Importing required Libraries\n",
    "import pandas as pd\n",
    "import seaborn as sns\n",
    "import matplotlib.pyplot as plt\n",
    "from sklearn.preprocessing import StandardScaler,MinMaxScaler\n",
    "from sklearn.metrics import accuracy_score\n",
    "from sklearn.model_selection import train_test_split\n",
    "from sklearn.linear_model import LogisticRegression\n",
    "from sklearn.metrics import confusion_matrix"
   ]
  },
  {
   "cell_type": "markdown",
   "id": "7a4155e0",
   "metadata": {},
   "source": [
    "### 1. Importing, Understanding, and Inspecting Data"
   ]
  },
  {
   "cell_type": "code",
   "execution_count": 2,
   "id": "358b8467",
   "metadata": {
    "scrolled": false
   },
   "outputs": [
    {
     "data": {
      "text/html": [
       "<div>\n",
       "<style scoped>\n",
       "    .dataframe tbody tr th:only-of-type {\n",
       "        vertical-align: middle;\n",
       "    }\n",
       "\n",
       "    .dataframe tbody tr th {\n",
       "        vertical-align: top;\n",
       "    }\n",
       "\n",
       "    .dataframe thead th {\n",
       "        text-align: right;\n",
       "    }\n",
       "</style>\n",
       "<table border=\"1\" class=\"dataframe\">\n",
       "  <thead>\n",
       "    <tr style=\"text-align: right;\">\n",
       "      <th></th>\n",
       "      <th>age</th>\n",
       "      <th>sex</th>\n",
       "      <th>cp</th>\n",
       "      <th>trestbps</th>\n",
       "      <th>chol</th>\n",
       "      <th>fbs</th>\n",
       "      <th>restecg</th>\n",
       "      <th>thalach</th>\n",
       "      <th>exang</th>\n",
       "      <th>oldpeak</th>\n",
       "      <th>slope</th>\n",
       "      <th>ca</th>\n",
       "      <th>thal</th>\n",
       "      <th>target</th>\n",
       "    </tr>\n",
       "  </thead>\n",
       "  <tbody>\n",
       "    <tr>\n",
       "      <th>0</th>\n",
       "      <td>63</td>\n",
       "      <td>1</td>\n",
       "      <td>3</td>\n",
       "      <td>145</td>\n",
       "      <td>233</td>\n",
       "      <td>1</td>\n",
       "      <td>0</td>\n",
       "      <td>150</td>\n",
       "      <td>0</td>\n",
       "      <td>2.3</td>\n",
       "      <td>0</td>\n",
       "      <td>0</td>\n",
       "      <td>1</td>\n",
       "      <td>1</td>\n",
       "    </tr>\n",
       "    <tr>\n",
       "      <th>1</th>\n",
       "      <td>37</td>\n",
       "      <td>1</td>\n",
       "      <td>2</td>\n",
       "      <td>130</td>\n",
       "      <td>250</td>\n",
       "      <td>0</td>\n",
       "      <td>1</td>\n",
       "      <td>187</td>\n",
       "      <td>0</td>\n",
       "      <td>3.5</td>\n",
       "      <td>0</td>\n",
       "      <td>0</td>\n",
       "      <td>2</td>\n",
       "      <td>1</td>\n",
       "    </tr>\n",
       "    <tr>\n",
       "      <th>2</th>\n",
       "      <td>41</td>\n",
       "      <td>0</td>\n",
       "      <td>1</td>\n",
       "      <td>130</td>\n",
       "      <td>204</td>\n",
       "      <td>0</td>\n",
       "      <td>0</td>\n",
       "      <td>172</td>\n",
       "      <td>0</td>\n",
       "      <td>1.4</td>\n",
       "      <td>2</td>\n",
       "      <td>0</td>\n",
       "      <td>2</td>\n",
       "      <td>1</td>\n",
       "    </tr>\n",
       "    <tr>\n",
       "      <th>3</th>\n",
       "      <td>56</td>\n",
       "      <td>1</td>\n",
       "      <td>1</td>\n",
       "      <td>120</td>\n",
       "      <td>236</td>\n",
       "      <td>0</td>\n",
       "      <td>1</td>\n",
       "      <td>178</td>\n",
       "      <td>0</td>\n",
       "      <td>0.8</td>\n",
       "      <td>2</td>\n",
       "      <td>0</td>\n",
       "      <td>2</td>\n",
       "      <td>1</td>\n",
       "    </tr>\n",
       "    <tr>\n",
       "      <th>4</th>\n",
       "      <td>57</td>\n",
       "      <td>0</td>\n",
       "      <td>0</td>\n",
       "      <td>120</td>\n",
       "      <td>354</td>\n",
       "      <td>0</td>\n",
       "      <td>1</td>\n",
       "      <td>163</td>\n",
       "      <td>1</td>\n",
       "      <td>0.6</td>\n",
       "      <td>2</td>\n",
       "      <td>0</td>\n",
       "      <td>2</td>\n",
       "      <td>1</td>\n",
       "    </tr>\n",
       "  </tbody>\n",
       "</table>\n",
       "</div>"
      ],
      "text/plain": [
       "   age  sex  cp  trestbps  chol  fbs  restecg  thalach  exang  oldpeak  slope  \\\n",
       "0   63    1   3       145   233    1        0      150      0      2.3      0   \n",
       "1   37    1   2       130   250    0        1      187      0      3.5      0   \n",
       "2   41    0   1       130   204    0        0      172      0      1.4      2   \n",
       "3   56    1   1       120   236    0        1      178      0      0.8      2   \n",
       "4   57    0   0       120   354    0        1      163      1      0.6      2   \n",
       "\n",
       "   ca  thal  target  \n",
       "0   0     1       1  \n",
       "1   0     2       1  \n",
       "2   0     2       1  \n",
       "3   0     2       1  \n",
       "4   0     2       1  "
      ]
     },
     "execution_count": 2,
     "metadata": {},
     "output_type": "execute_result"
    }
   ],
   "source": [
    "#Importing the Data\n",
    "df = pd.read_excel(\"C:/Users/MK064837/Google Drive/Simplilearn/DataSets/Heartattack/data.xlsx\")\n",
    "df.head(5)"
   ]
  },
  {
   "cell_type": "markdown",
   "id": "a2997d08",
   "metadata": {},
   "source": [
    "##### Variable Description\n",
    "- age--------age in years\n",
    "- sex--------(1 = male; 0 = female)\n",
    "- cp---------chest pain type\n",
    "- trestbps---resting blood pressure (in mm Hg on admission to the hospital)\n",
    "- chol-------serum cholestoral in mg/dl\n",
    "- fbs--------fasting blood sugar > 120 mg/dl) (1 = true; 0 = false)\n",
    "- restecg----resting electrocardiographic results\n",
    "- thalach----maximum heart rate achieved\n",
    "- exang------exercise induced angina (1 = yes; 0 = no)\n",
    "- oldpeak----ST depression induced by exercise relative to rest\n",
    "- slope------the slope of the peak exercise ST segment\n",
    "- ca---------number of major vessels (0-3) colored by flourosopy\n",
    "- thal-------3 = normal; 6 = fixed defect; 7 = reversable defect"
   ]
  },
  {
   "cell_type": "code",
   "execution_count": 3,
   "id": "0822d493",
   "metadata": {},
   "outputs": [
    {
     "data": {
      "text/plain": [
       "(303, 14)"
      ]
     },
     "execution_count": 3,
     "metadata": {},
     "output_type": "execute_result"
    }
   ],
   "source": [
    "#Structure of Data\n",
    "df.shape"
   ]
  },
  {
   "cell_type": "code",
   "execution_count": 4,
   "id": "b5e9c269",
   "metadata": {},
   "outputs": [
    {
     "data": {
      "text/plain": [
       "age         0\n",
       "sex         0\n",
       "cp          0\n",
       "trestbps    0\n",
       "chol        0\n",
       "fbs         0\n",
       "restecg     0\n",
       "thalach     0\n",
       "exang       0\n",
       "oldpeak     0\n",
       "slope       0\n",
       "ca          0\n",
       "thal        0\n",
       "target      0\n",
       "dtype: int64"
      ]
     },
     "execution_count": 4,
     "metadata": {},
     "output_type": "execute_result"
    }
   ],
   "source": [
    "#Checking Null values\n",
    "df.isnull().sum()"
   ]
  },
  {
   "cell_type": "code",
   "execution_count": 5,
   "id": "0822e820",
   "metadata": {},
   "outputs": [
    {
     "ename": "SyntaxError",
     "evalue": "unexpected EOF while parsing (<ipython-input-5-3105e30982db>, line 2)",
     "output_type": "error",
     "traceback": [
      "\u001b[1;36m  File \u001b[1;32m\"<ipython-input-5-3105e30982db>\"\u001b[1;36m, line \u001b[1;32m2\u001b[0m\n\u001b[1;33m    print(\"Total no of Duplicate values: \",df.duplicated().sum()\u001b[0m\n\u001b[1;37m                                                                ^\u001b[0m\n\u001b[1;31mSyntaxError\u001b[0m\u001b[1;31m:\u001b[0m unexpected EOF while parsing\n"
     ]
    }
   ],
   "source": [
    "#Checking duplicates value\n",
    "print(\"Total no of Duplicate values: \",df.duplicated().sum()"
   ]
  },
  {
   "cell_type": "code",
   "execution_count": null,
   "id": "90c7102d",
   "metadata": {},
   "outputs": [],
   "source": [
    "#Dropping duplicates\n",
    "df = df.drop_duplicates()\n",
    "df.duplicated().sum()"
   ]
  },
  {
   "cell_type": "code",
   "execution_count": null,
   "id": "f944c886",
   "metadata": {
    "scrolled": true
   },
   "outputs": [],
   "source": [
    "#Statistical analysis of dataset\n",
    "df.describe()"
   ]
  },
  {
   "cell_type": "markdown",
   "id": "c817c740",
   "metadata": {},
   "source": [
    "### Conclusions\n",
    "- The structure of data say it has 14 features and 303 records\n",
    "- The data set has no missing values\n",
    "- 1 duplicate record is found adn was dropped"
   ]
  },
  {
   "cell_type": "markdown",
   "id": "9fe6a7df",
   "metadata": {},
   "source": [
    "### 2. Performing EDA and Modeling:\n",
    "\n"
   ]
  },
  {
   "cell_type": "code",
   "execution_count": null,
   "id": "3b385e06",
   "metadata": {},
   "outputs": [],
   "source": [
    "#Data preprocessing for plotting\n",
    "df2 = df.copy()\n",
    "def chng(sex):\n",
    "    if sex == 0:\n",
    "        return \"Female\"\n",
    "    else:\n",
    "        return \"Male\"\n",
    "df2['sex'] = df2['sex'].apply(chng)\n",
    "def chng2(prob):\n",
    "    if prob == 0:\n",
    "        return \"HeartDisease\"\n",
    "    else:\n",
    "        return \"No Heart Disease\"\n",
    "df2['target'] = df2['target'].apply(chng2)"
   ]
  },
  {
   "cell_type": "code",
   "execution_count": null,
   "id": "d05ec5e3",
   "metadata": {},
   "outputs": [],
   "source": [
    "#Categorical value analysis\n",
    "f, axes = plt.subplots(2,4,figsize=(17,6))\n",
    "sns.histplot(data=df['sex'], ax=axes[0,0])\n",
    "sns.histplot(data=df['cp'], ax=axes[0,1])\n",
    "sns.histplot(data=df['fbs'], ax=axes[0,2])\n",
    "sns.histplot(data=df['restecg'], ax=axes[0,3])\n",
    "sns.histplot(data=df['exang'], ax=axes[1,0])\n",
    "sns.histplot(data=df['slope'], ax=axes[1,1])\n",
    "sns.histplot(data=df['ca'], ax=axes[1,2])\n",
    "sns.histplot(data=df['thal'], ax=axes[1,3])\n",
    "plt.show()"
   ]
  },
  {
   "cell_type": "code",
   "execution_count": null,
   "id": "95b7aa1e",
   "metadata": {},
   "outputs": [],
   "source": [
    "#CVD across different ages\n",
    "plt.figure(figsize=(20,6))\n",
    "sns.countplot(data=df, x='age', hue='target')"
   ]
  },
  {
   "cell_type": "markdown",
   "id": "8bd7d7f8",
   "metadata": {},
   "source": [
    "#### Conclusion\n",
    "- CVD is more prominent in people whose age lies between 40-60"
   ]
  },
  {
   "cell_type": "code",
   "execution_count": null,
   "id": "cefa151c",
   "metadata": {},
   "outputs": [],
   "source": [
    "#Identifying outliers in resting blood pressure\n",
    "plt.figure(figsize=(20,4))\n",
    "sns.boxplot(x=df['trestbps'])"
   ]
  },
  {
   "cell_type": "markdown",
   "id": "e00d5b9d",
   "metadata": {},
   "source": [
    "#### Conclusion\n",
    "- Outliers are observed after 170mg HG"
   ]
  },
  {
   "cell_type": "code",
   "execution_count": null,
   "id": "f3de1b37",
   "metadata": {
    "scrolled": false
   },
   "outputs": [],
   "source": [
    "#Heart attack based on anomalies in resting blood pressure of the patient\n",
    "plt.figure(figsize=(20,4))\n",
    "print(\"Total affected in trestbps outliers :\",sum((df.trestbps[df.target==1]>=170)))\n",
    "sns.countplot(x=df.trestbps[df.target==1])\n",
    "plt.show()"
   ]
  },
  {
   "cell_type": "markdown",
   "id": "1001dfe0",
   "metadata": {},
   "source": [
    "### Conclusion\n",
    "- We wont be able to to precisely detect the heart attack on anamalies in resting blood pressure as the records in that range(170-200) are insignificant in detection adn cannot confirm that cvd is prominent in that range"
   ]
  },
  {
   "cell_type": "code",
   "execution_count": null,
   "id": "6e759df3",
   "metadata": {
    "scrolled": true
   },
   "outputs": [],
   "source": [
    "#Composition of overall patients w.r.t gender\n",
    "print(\"Total womens affected :\",sum((df.sex[df.target==1]==0)))\n",
    "print(\"Total Mens affected :\",sum((df.sex[df.target==1]==1)))\n",
    "sns.countplot(data= df2, x='sex',hue='target')\n",
    "plt.title('Gender v/s Target\\n')\n",
    "plt.show()"
   ]
  },
  {
   "cell_type": "markdown",
   "id": "157af673",
   "metadata": {},
   "source": [
    "#### Conclusion\n",
    "- Mens are more affected by CVD"
   ]
  },
  {
   "cell_type": "code",
   "execution_count": null,
   "id": "59765428",
   "metadata": {},
   "outputs": [],
   "source": [
    "#Relationship between cholesterol levels and our target variable.\n",
    "sns.displot(data=df, x='chol',hue='target',bins=20)\n",
    "plt.show()"
   ]
  },
  {
   "cell_type": "markdown",
   "id": "751cdbc9",
   "metadata": {},
   "source": [
    "### Conclusion\n",
    "- People with low cholestrol level(200-300) were are more prone to CVD"
   ]
  },
  {
   "cell_type": "code",
   "execution_count": null,
   "id": "3a2c009c",
   "metadata": {
    "scrolled": true
   },
   "outputs": [],
   "source": [
    "#Relationship between peak exercising and occurrence of heart attack\n",
    "sns.countplot(data=df2, x='slope', hue='target')\n",
    "print(\"Correlation of peak exercising and CVD :\", df.slope.corr(df.target))\n",
    "plt.show()"
   ]
  },
  {
   "cell_type": "markdown",
   "id": "b840b5c7",
   "metadata": {},
   "source": [
    "#### Conclusion\n",
    "- People who do more exercise have less chances of getting CVD"
   ]
  },
  {
   "cell_type": "code",
   "execution_count": null,
   "id": "961e8386",
   "metadata": {},
   "outputs": [],
   "source": [
    "#thalassemia a major cause of CVD?\n",
    "sns.countplot(data=df2, x='thal', hue='target')\n",
    "print(\"Corelation between thal and occurance of CVD :\", df['thal'].corr(df['target']))\n",
    "plt.show()"
   ]
  },
  {
   "cell_type": "markdown",
   "id": "d5281369",
   "metadata": {},
   "source": [
    "#### Conclusion\n",
    "- Thalesemia is not a major cause of CVD and the correlation between the target variable and thal is negative"
   ]
  },
  {
   "cell_type": "code",
   "execution_count": null,
   "id": "62dff10f",
   "metadata": {
    "scrolled": false
   },
   "outputs": [],
   "source": [
    "#Relationship between all the given variable\n",
    "plt.figure(figsize=(20,12))\n",
    "print(\"The below heatmap shows the correlation of each variable wrt to other features \\n\")\n",
    "sns.heatmap(df.corr(), annot=True)\n",
    "plt.show()"
   ]
  },
  {
   "cell_type": "code",
   "execution_count": null,
   "id": "9c7953be",
   "metadata": {
    "scrolled": false
   },
   "outputs": [],
   "source": [
    "#Pairplot\n",
    "sns.pairplot(df)"
   ]
  },
  {
   "cell_type": "code",
   "execution_count": null,
   "id": "d544e0c6",
   "metadata": {},
   "outputs": [],
   "source": [
    "#Data Scaling (Since the input features have numeric range variation we will use scaling )\n",
    "Scale = StandardScaler()\n",
    "X = df.drop(columns='target')\n",
    "y = df['target']\n",
    "X = Scale.fit_transform(X)\n",
    "y = df['target']"
   ]
  },
  {
   "cell_type": "code",
   "execution_count": null,
   "id": "0273e8e9",
   "metadata": {},
   "outputs": [],
   "source": [
    "# Train and test splitting data\n",
    "X_train, X_test, y_train, y_test = train_test_split(X,y, test_size=0.2)\n",
    "Model = LogisticRegression()\n",
    "Model.fit(X_train,y_train)"
   ]
  },
  {
   "cell_type": "code",
   "execution_count": null,
   "id": "c3e85798",
   "metadata": {},
   "outputs": [],
   "source": [
    "#predicting on test data\n",
    "y_pred = Model.predict(X_test)\n",
    "print(\"Prediction on test data : \\n\" , y_pred)"
   ]
  },
  {
   "cell_type": "code",
   "execution_count": null,
   "id": "c86e9951",
   "metadata": {},
   "outputs": [],
   "source": [
    "#Validation\n",
    "print(\"Confusion Matrix is :\")\n",
    "print(confusion_matrix(y_test,y_pred))\n",
    "print(\"Accurancy Score is -\", accuracy_score(y_test,y_pred))"
   ]
  },
  {
   "cell_type": "code",
   "execution_count": null,
   "id": "66b21810",
   "metadata": {},
   "outputs": [],
   "source": []
  }
 ],
 "metadata": {
  "kernelspec": {
   "display_name": "Python 3",
   "language": "python",
   "name": "python3"
  },
  "language_info": {
   "codemirror_mode": {
    "name": "ipython",
    "version": 3
   },
   "file_extension": ".py",
   "mimetype": "text/x-python",
   "name": "python",
   "nbconvert_exporter": "python",
   "pygments_lexer": "ipython3",
   "version": "3.8.10"
  }
 },
 "nbformat": 4,
 "nbformat_minor": 5
}
